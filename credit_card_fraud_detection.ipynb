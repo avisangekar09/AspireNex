{
  "nbformat": 4,
  "nbformat_minor": 0,
  "metadata": {
    "colab": {
      "provenance": []
    },
    "kernelspec": {
      "name": "python3",
      "display_name": "Python 3"
    },
    "language_info": {
      "name": "python"
    }
  },
  "cells": [
    {
      "cell_type": "markdown",
      "source": [
        "# **Import Libraries**\n",
        "\n",
        "First, import the necessary libraries for data manipulation, visualization, and model building."
      ],
      "metadata": {
        "id": "W82oUs1YbsWg"
      }
    },
    {
      "cell_type": "code",
      "execution_count": 1,
      "metadata": {
        "id": "GkkxGUx3XyFd"
      },
      "outputs": [],
      "source": [
        "import numpy as np\n",
        "import pandas as pd\n",
        "import matplotlib.pyplot as plt\n",
        "import seaborn as sns\n",
        "\n",
        "from sklearn.model_selection import train_test_split\n",
        "from sklearn.preprocessing import StandardScaler\n",
        "from sklearn.linear_model import LogisticRegression\n",
        "from sklearn.ensemble import RandomForestClassifier\n",
        "from sklearn.metrics import confusion_matrix, classification_report, precision_score, recall_score, f1_score\n",
        "from imblearn.over_sampling import SMOTE\n",
        "from imblearn.under_sampling import RandomUnderSampler\n",
        "from imblearn.pipeline import Pipeline\n"
      ]
    },
    {
      "cell_type": "markdown",
      "source": [
        "# **Load the Dataset**\n",
        "\n",
        "Load the credit card transaction dataset. For this example, we will use a dataset where 'Class' is the target variable (0 for genuine and 1 for fraudulent transactions)."
      ],
      "metadata": {
        "id": "s9jWP08FcF8s"
      }
    },
    {
      "cell_type": "code",
      "source": [
        "# Load the dataset\n",
        "data = pd.read_csv('/content/creditcard.csv')\n",
        "\n",
        "# Inspect the dataset\n",
        "print(data.head())\n",
        "\n",
        "\n"
      ],
      "metadata": {
        "colab": {
          "base_uri": "https://localhost:8080/"
        },
        "id": "0YPtiHXuYf0S",
        "outputId": "fb87f1a1-ddf4-4461-9f88-faa3c4601e95"
      },
      "execution_count": 2,
      "outputs": [
        {
          "output_type": "stream",
          "name": "stdout",
          "text": [
            "   Time        V1        V2        V3        V4        V5        V6        V7  \\\n",
            "0     0 -1.359807 -0.072781  2.536347  1.378155 -0.338321  0.462388  0.239599   \n",
            "1     0  1.191857  0.266151  0.166480  0.448154  0.060018 -0.082361 -0.078803   \n",
            "2     1 -1.358354 -1.340163  1.773209  0.379780 -0.503198  1.800499  0.791461   \n",
            "3     1 -0.966272 -0.185226  1.792993 -0.863291 -0.010309  1.247203  0.237609   \n",
            "4     2 -1.158233  0.877737  1.548718  0.403034 -0.407193  0.095921  0.592941   \n",
            "\n",
            "         V8        V9  ...       V21       V22       V23       V24       V25  \\\n",
            "0  0.098698  0.363787  ... -0.018307  0.277838 -0.110474  0.066928  0.128539   \n",
            "1  0.085102 -0.255425  ... -0.225775 -0.638672  0.101288 -0.339846  0.167170   \n",
            "2  0.247676 -1.514654  ...  0.247998  0.771679  0.909412 -0.689281 -0.327642   \n",
            "3  0.377436 -1.387024  ... -0.108300  0.005274 -0.190321 -1.175575  0.647376   \n",
            "4 -0.270533  0.817739  ... -0.009431  0.798278 -0.137458  0.141267 -0.206010   \n",
            "\n",
            "        V26       V27       V28  Amount  Class  \n",
            "0 -0.189115  0.133558 -0.021053  149.62    0.0  \n",
            "1  0.125895 -0.008983  0.014724    2.69    0.0  \n",
            "2 -0.139097 -0.055353 -0.059752  378.66    0.0  \n",
            "3 -0.221929  0.062723  0.061458  123.50    0.0  \n",
            "4  0.502292  0.219422  0.215153   69.99    0.0  \n",
            "\n",
            "[5 rows x 31 columns]\n"
          ]
        }
      ]
    },
    {
      "cell_type": "code",
      "source": [
        "print(data.describe())"
      ],
      "metadata": {
        "colab": {
          "base_uri": "https://localhost:8080/"
        },
        "id": "xWsJYVsTYt9q",
        "outputId": "4b190da4-5155-4ff9-81f2-633ce9f52e9b"
      },
      "execution_count": 3,
      "outputs": [
        {
          "output_type": "stream",
          "name": "stdout",
          "text": [
            "               Time            V1            V2            V3            V4  \\\n",
            "count  19898.000000  19898.000000  19898.000000  19898.000000  19898.000000   \n",
            "mean   15492.416374     -0.244326      0.242420      0.745774      0.277011   \n",
            "std    10512.066686      1.889986      1.527342      1.767726      1.466218   \n",
            "min        0.000000    -30.552380    -40.978852    -31.103685     -5.172595   \n",
            "25%     4536.250000     -0.959632     -0.329008      0.309235     -0.636713   \n",
            "50%    14796.000000     -0.302521      0.220079      0.898672      0.224608   \n",
            "75%    26220.500000      1.164473      0.870117      1.532922      1.142143   \n",
            "max    30633.000000      1.960497     16.713389      4.101716     11.927512   \n",
            "\n",
            "                 V5            V6            V7            V8            V9  \\\n",
            "count  19898.000000  19898.000000  19898.000000  19898.000000  19898.000000   \n",
            "mean      -0.163264      0.092881     -0.145279      0.022237      0.636382   \n",
            "std        1.430821      1.331029      1.338260      1.346813      1.278839   \n",
            "min      -32.092129    -23.496714    -26.548144    -41.484823     -7.175097   \n",
            "25%       -0.745156     -0.657306     -0.599403     -0.171779     -0.209565   \n",
            "50%       -0.199377     -0.175434     -0.072254      0.023822      0.620176   \n",
            "75%        0.341367      0.486735      0.448572      0.279960      1.409142   \n",
            "max       34.099309     21.393069     34.303177     20.007208     10.392889   \n",
            "\n",
            "       ...           V21           V22           V23           V24  \\\n",
            "count  ...  19897.000000  19897.000000  19897.000000  19897.000000   \n",
            "mean   ...     -0.047949     -0.146461     -0.038093      0.010678   \n",
            "std    ...      0.828385      0.637567      0.520683      0.591180   \n",
            "min    ...    -20.262054     -8.593642    -26.751119     -2.728650   \n",
            "25%    ...     -0.259497     -0.563992     -0.174213     -0.333314   \n",
            "50%    ...     -0.115398     -0.118803     -0.046994      0.061181   \n",
            "75%    ...      0.049521      0.254057      0.073666      0.398549   \n",
            "max    ...     22.614889      5.805795     13.876221      3.695503   \n",
            "\n",
            "                V25           V26           V27           V28        Amount  \\\n",
            "count  19897.000000  19897.000000  19897.000000  19897.000000  19897.000000   \n",
            "mean       0.122924      0.033127      0.014454      0.007312     70.271100   \n",
            "std        0.437675      0.530315      0.393002      0.244372    205.363789   \n",
            "min       -7.495741     -1.338556     -8.567638     -3.575312      0.000000   \n",
            "25%       -0.138325     -0.341917     -0.069146     -0.010879      5.750000   \n",
            "50%        0.160495     -0.036546      0.003868      0.019083     16.000000   \n",
            "75%        0.400713      0.332729      0.096281      0.077551     59.980000   \n",
            "max        5.525093      3.517346      8.254376      4.860769   7879.420000   \n",
            "\n",
            "              Class  \n",
            "count  19897.000000  \n",
            "mean       0.004272  \n",
            "std        0.065222  \n",
            "min        0.000000  \n",
            "25%        0.000000  \n",
            "50%        0.000000  \n",
            "75%        0.000000  \n",
            "max        1.000000  \n",
            "\n",
            "[8 rows x 31 columns]\n"
          ]
        }
      ]
    },
    {
      "cell_type": "code",
      "source": [
        "print(data.info())"
      ],
      "metadata": {
        "colab": {
          "base_uri": "https://localhost:8080/"
        },
        "id": "Wnyn2NqaY0oM",
        "outputId": "3e80080f-9cea-4f93-9df9-1336cec4082e"
      },
      "execution_count": 4,
      "outputs": [
        {
          "output_type": "stream",
          "name": "stdout",
          "text": [
            "<class 'pandas.core.frame.DataFrame'>\n",
            "RangeIndex: 19898 entries, 0 to 19897\n",
            "Data columns (total 31 columns):\n",
            " #   Column  Non-Null Count  Dtype  \n",
            "---  ------  --------------  -----  \n",
            " 0   Time    19898 non-null  int64  \n",
            " 1   V1      19898 non-null  float64\n",
            " 2   V2      19898 non-null  float64\n",
            " 3   V3      19898 non-null  float64\n",
            " 4   V4      19898 non-null  float64\n",
            " 5   V5      19898 non-null  float64\n",
            " 6   V6      19898 non-null  float64\n",
            " 7   V7      19898 non-null  float64\n",
            " 8   V8      19898 non-null  float64\n",
            " 9   V9      19898 non-null  float64\n",
            " 10  V10     19898 non-null  float64\n",
            " 11  V11     19897 non-null  float64\n",
            " 12  V12     19897 non-null  float64\n",
            " 13  V13     19897 non-null  float64\n",
            " 14  V14     19897 non-null  float64\n",
            " 15  V15     19897 non-null  float64\n",
            " 16  V16     19897 non-null  float64\n",
            " 17  V17     19897 non-null  float64\n",
            " 18  V18     19897 non-null  float64\n",
            " 19  V19     19897 non-null  float64\n",
            " 20  V20     19897 non-null  float64\n",
            " 21  V21     19897 non-null  float64\n",
            " 22  V22     19897 non-null  float64\n",
            " 23  V23     19897 non-null  float64\n",
            " 24  V24     19897 non-null  float64\n",
            " 25  V25     19897 non-null  float64\n",
            " 26  V26     19897 non-null  float64\n",
            " 27  V27     19897 non-null  float64\n",
            " 28  V28     19897 non-null  float64\n",
            " 29  Amount  19897 non-null  float64\n",
            " 30  Class   19897 non-null  float64\n",
            "dtypes: float64(30), int64(1)\n",
            "memory usage: 4.7 MB\n",
            "None\n"
          ]
        }
      ]
    },
    {
      "cell_type": "markdown",
      "source": [
        "# **Data Pre-processing**\n",
        "\n",
        "Handle missing values (if any), and normalize the transaction data."
      ],
      "metadata": {
        "id": "jxBPQz5Zcb06"
      }
    },
    {
      "cell_type": "code",
      "source": [
        "# Check for missing values\n",
        "print(data.isnull().sum())\n",
        "\n",
        "# Drop missing values or fill them with appropriate values\n",
        "data = data.dropna()\n",
        "\n",
        "# Standardize the 'Amount' column (or any other numerical columns as needed)\n",
        "scaler = StandardScaler()\n",
        "data['Amount'] = scaler.fit_transform(data[['Amount']])\n"
      ],
      "metadata": {
        "colab": {
          "base_uri": "https://localhost:8080/"
        },
        "id": "H9JixOK_ZJek",
        "outputId": "e4026b1d-af7b-470a-8ecd-c778ed6329a0"
      },
      "execution_count": 5,
      "outputs": [
        {
          "output_type": "stream",
          "name": "stdout",
          "text": [
            "Time      0\n",
            "V1        0\n",
            "V2        0\n",
            "V3        0\n",
            "V4        0\n",
            "V5        0\n",
            "V6        0\n",
            "V7        0\n",
            "V8        0\n",
            "V9        0\n",
            "V10       0\n",
            "V11       1\n",
            "V12       1\n",
            "V13       1\n",
            "V14       1\n",
            "V15       1\n",
            "V16       1\n",
            "V17       1\n",
            "V18       1\n",
            "V19       1\n",
            "V20       1\n",
            "V21       1\n",
            "V22       1\n",
            "V23       1\n",
            "V24       1\n",
            "V25       1\n",
            "V26       1\n",
            "V27       1\n",
            "V28       1\n",
            "Amount    1\n",
            "Class     1\n",
            "dtype: int64\n"
          ]
        },
        {
          "output_type": "stream",
          "name": "stderr",
          "text": [
            "<ipython-input-5-5e25c28d47e5>:9: SettingWithCopyWarning: \n",
            "A value is trying to be set on a copy of a slice from a DataFrame.\n",
            "Try using .loc[row_indexer,col_indexer] = value instead\n",
            "\n",
            "See the caveats in the documentation: https://pandas.pydata.org/pandas-docs/stable/user_guide/indexing.html#returning-a-view-versus-a-copy\n",
            "  data['Amount'] = scaler.fit_transform(data[['Amount']])\n"
          ]
        }
      ]
    },
    {
      "cell_type": "markdown",
      "source": [
        "# **Handle Class Imbalance**\n",
        "\n",
        "Use techniques like SMOTE (Synthetic Minority Over-sampling Technique) or RandomUnderSampler to handle class imbalance."
      ],
      "metadata": {
        "id": "59dpWQnhcqXJ"
      }
    },
    {
      "cell_type": "code",
      "source": [
        "# Define features and target\n",
        "X = data.drop('Class', axis=1)\n",
        "y = data['Class']\n",
        "\n",
        "# Use SMOTE to handle class imbalance\n",
        "oversample = SMOTE()\n",
        "X_res, y_res = oversample.fit_resample(X, y)\n",
        "\n",
        "# Alternatively, use RandomUnderSampler\n",
        "undersample = RandomUnderSampler()\n",
        "X_res, y_res = undersample.fit_resample(X, y)\n"
      ],
      "metadata": {
        "id": "z7vCNfIaZQ2n"
      },
      "execution_count": 6,
      "outputs": []
    },
    {
      "cell_type": "markdown",
      "source": [
        "# **Split the Dataset**\n",
        "\n",
        "Split the dataset into training and testing sets."
      ],
      "metadata": {
        "id": "0Nt0SugwcyZe"
      }
    },
    {
      "cell_type": "code",
      "source": [
        "X_train, X_test, y_train, y_test = train_test_split(X_res, y_res, test_size=0.3, random_state=42)\n"
      ],
      "metadata": {
        "id": "b3QUsQ3VZf22"
      },
      "execution_count": 7,
      "outputs": []
    },
    {
      "cell_type": "markdown",
      "source": [
        "# **Train the Model**\n",
        "\n",
        "Train a classification model, such as logistic regression or random forests."
      ],
      "metadata": {
        "id": "gH5U5yPsc5Mv"
      }
    },
    {
      "cell_type": "code",
      "source": [
        "# Logistic Regression\n",
        "logistic_model = LogisticRegression()\n",
        "logistic_model.fit(X_train, y_train)\n",
        "\n",
        "# Random Forest\n",
        "rf_model = RandomForestClassifier(n_estimators=100, random_state=42)\n",
        "rf_model.fit(X_train, y_train)\n"
      ],
      "metadata": {
        "colab": {
          "base_uri": "https://localhost:8080/",
          "height": 213
        },
        "id": "n917R6d-Zk3o",
        "outputId": "dc7dff4a-d391-4aa1-e3e7-6473b0e88e0c"
      },
      "execution_count": 8,
      "outputs": [
        {
          "output_type": "stream",
          "name": "stderr",
          "text": [
            "/usr/local/lib/python3.10/dist-packages/sklearn/linear_model/_logistic.py:458: ConvergenceWarning: lbfgs failed to converge (status=1):\n",
            "STOP: TOTAL NO. of ITERATIONS REACHED LIMIT.\n",
            "\n",
            "Increase the number of iterations (max_iter) or scale the data as shown in:\n",
            "    https://scikit-learn.org/stable/modules/preprocessing.html\n",
            "Please also refer to the documentation for alternative solver options:\n",
            "    https://scikit-learn.org/stable/modules/linear_model.html#logistic-regression\n",
            "  n_iter_i = _check_optimize_result(\n"
          ]
        },
        {
          "output_type": "execute_result",
          "data": {
            "text/plain": [
              "RandomForestClassifier(random_state=42)"
            ],
            "text/html": [
              "<style>#sk-container-id-1 {color: black;background-color: white;}#sk-container-id-1 pre{padding: 0;}#sk-container-id-1 div.sk-toggleable {background-color: white;}#sk-container-id-1 label.sk-toggleable__label {cursor: pointer;display: block;width: 100%;margin-bottom: 0;padding: 0.3em;box-sizing: border-box;text-align: center;}#sk-container-id-1 label.sk-toggleable__label-arrow:before {content: \"▸\";float: left;margin-right: 0.25em;color: #696969;}#sk-container-id-1 label.sk-toggleable__label-arrow:hover:before {color: black;}#sk-container-id-1 div.sk-estimator:hover label.sk-toggleable__label-arrow:before {color: black;}#sk-container-id-1 div.sk-toggleable__content {max-height: 0;max-width: 0;overflow: hidden;text-align: left;background-color: #f0f8ff;}#sk-container-id-1 div.sk-toggleable__content pre {margin: 0.2em;color: black;border-radius: 0.25em;background-color: #f0f8ff;}#sk-container-id-1 input.sk-toggleable__control:checked~div.sk-toggleable__content {max-height: 200px;max-width: 100%;overflow: auto;}#sk-container-id-1 input.sk-toggleable__control:checked~label.sk-toggleable__label-arrow:before {content: \"▾\";}#sk-container-id-1 div.sk-estimator input.sk-toggleable__control:checked~label.sk-toggleable__label {background-color: #d4ebff;}#sk-container-id-1 div.sk-label input.sk-toggleable__control:checked~label.sk-toggleable__label {background-color: #d4ebff;}#sk-container-id-1 input.sk-hidden--visually {border: 0;clip: rect(1px 1px 1px 1px);clip: rect(1px, 1px, 1px, 1px);height: 1px;margin: -1px;overflow: hidden;padding: 0;position: absolute;width: 1px;}#sk-container-id-1 div.sk-estimator {font-family: monospace;background-color: #f0f8ff;border: 1px dotted black;border-radius: 0.25em;box-sizing: border-box;margin-bottom: 0.5em;}#sk-container-id-1 div.sk-estimator:hover {background-color: #d4ebff;}#sk-container-id-1 div.sk-parallel-item::after {content: \"\";width: 100%;border-bottom: 1px solid gray;flex-grow: 1;}#sk-container-id-1 div.sk-label:hover label.sk-toggleable__label {background-color: #d4ebff;}#sk-container-id-1 div.sk-serial::before {content: \"\";position: absolute;border-left: 1px solid gray;box-sizing: border-box;top: 0;bottom: 0;left: 50%;z-index: 0;}#sk-container-id-1 div.sk-serial {display: flex;flex-direction: column;align-items: center;background-color: white;padding-right: 0.2em;padding-left: 0.2em;position: relative;}#sk-container-id-1 div.sk-item {position: relative;z-index: 1;}#sk-container-id-1 div.sk-parallel {display: flex;align-items: stretch;justify-content: center;background-color: white;position: relative;}#sk-container-id-1 div.sk-item::before, #sk-container-id-1 div.sk-parallel-item::before {content: \"\";position: absolute;border-left: 1px solid gray;box-sizing: border-box;top: 0;bottom: 0;left: 50%;z-index: -1;}#sk-container-id-1 div.sk-parallel-item {display: flex;flex-direction: column;z-index: 1;position: relative;background-color: white;}#sk-container-id-1 div.sk-parallel-item:first-child::after {align-self: flex-end;width: 50%;}#sk-container-id-1 div.sk-parallel-item:last-child::after {align-self: flex-start;width: 50%;}#sk-container-id-1 div.sk-parallel-item:only-child::after {width: 0;}#sk-container-id-1 div.sk-dashed-wrapped {border: 1px dashed gray;margin: 0 0.4em 0.5em 0.4em;box-sizing: border-box;padding-bottom: 0.4em;background-color: white;}#sk-container-id-1 div.sk-label label {font-family: monospace;font-weight: bold;display: inline-block;line-height: 1.2em;}#sk-container-id-1 div.sk-label-container {text-align: center;}#sk-container-id-1 div.sk-container {/* jupyter's `normalize.less` sets `[hidden] { display: none; }` but bootstrap.min.css set `[hidden] { display: none !important; }` so we also need the `!important` here to be able to override the default hidden behavior on the sphinx rendered scikit-learn.org. See: https://github.com/scikit-learn/scikit-learn/issues/21755 */display: inline-block !important;position: relative;}#sk-container-id-1 div.sk-text-repr-fallback {display: none;}</style><div id=\"sk-container-id-1\" class=\"sk-top-container\"><div class=\"sk-text-repr-fallback\"><pre>RandomForestClassifier(random_state=42)</pre><b>In a Jupyter environment, please rerun this cell to show the HTML representation or trust the notebook. <br />On GitHub, the HTML representation is unable to render, please try loading this page with nbviewer.org.</b></div><div class=\"sk-container\" hidden><div class=\"sk-item\"><div class=\"sk-estimator sk-toggleable\"><input class=\"sk-toggleable__control sk-hidden--visually\" id=\"sk-estimator-id-1\" type=\"checkbox\" checked><label for=\"sk-estimator-id-1\" class=\"sk-toggleable__label sk-toggleable__label-arrow\">RandomForestClassifier</label><div class=\"sk-toggleable__content\"><pre>RandomForestClassifier(random_state=42)</pre></div></div></div></div></div>"
            ]
          },
          "metadata": {},
          "execution_count": 8
        }
      ]
    },
    {
      "cell_type": "markdown",
      "source": [
        "# **Evaluate the Model**\n",
        "\n",
        "Evaluate the model's performance using metrics like precision, recall, and F1-score."
      ],
      "metadata": {
        "id": "zIjdbriPdBpt"
      }
    },
    {
      "cell_type": "code",
      "source": [
        "# Predictions\n",
        "logistic_predictions = logistic_model.predict(X_test)\n",
        "rf_predictions = rf_model.predict(X_test)\n",
        "\n",
        "# Evaluation for Logistic Regression\n",
        "print(\"Logistic Regression:\")\n",
        "print(classification_report(y_test, logistic_predictions))\n",
        "print(\"Confusion Matrix:\\n\", confusion_matrix(y_test, logistic_predictions))\n",
        "\n",
        "# Evaluation for Random Forest\n",
        "print(\"Random Forest:\")\n",
        "print(classification_report(y_test, rf_predictions))\n",
        "print(\"Confusion Matrix:\\n\", confusion_matrix(y_test, rf_predictions))\n"
      ],
      "metadata": {
        "colab": {
          "base_uri": "https://localhost:8080/"
        },
        "id": "i--kQU7tZ2RQ",
        "outputId": "572aa640-d873-4bc8-a6a6-6b3f71d4f024"
      },
      "execution_count": 9,
      "outputs": [
        {
          "output_type": "stream",
          "name": "stdout",
          "text": [
            "Logistic Regression:\n",
            "              precision    recall  f1-score   support\n",
            "\n",
            "         0.0       0.96      0.92      0.94        26\n",
            "         1.0       0.92      0.96      0.94        25\n",
            "\n",
            "    accuracy                           0.94        51\n",
            "   macro avg       0.94      0.94      0.94        51\n",
            "weighted avg       0.94      0.94      0.94        51\n",
            "\n",
            "Confusion Matrix:\n",
            " [[24  2]\n",
            " [ 1 24]]\n",
            "Random Forest:\n",
            "              precision    recall  f1-score   support\n",
            "\n",
            "         0.0       0.96      1.00      0.98        26\n",
            "         1.0       1.00      0.96      0.98        25\n",
            "\n",
            "    accuracy                           0.98        51\n",
            "   macro avg       0.98      0.98      0.98        51\n",
            "weighted avg       0.98      0.98      0.98        51\n",
            "\n",
            "Confusion Matrix:\n",
            " [[26  0]\n",
            " [ 1 24]]\n"
          ]
        }
      ]
    },
    {
      "cell_type": "markdown",
      "source": [
        "# **Plot Results**\n",
        "\n",
        "Visualize the results to get a better understanding of the model's performance."
      ],
      "metadata": {
        "id": "Esxpb3HLdJUH"
      }
    },
    {
      "cell_type": "code",
      "source": [
        "# Confusion Matrix for Random Forest\n",
        "cm = confusion_matrix(y_test, rf_predictions)\n",
        "\n",
        "plt.figure(figsize=(10,7))\n",
        "sns.heatmap(cm, annot=True, fmt='d')\n",
        "plt.xlabel('Predicted')\n",
        "plt.ylabel('Truth')\n",
        "plt.title('Confusion Matrix - Random Forest')\n",
        "plt.show()\n"
      ],
      "metadata": {
        "colab": {
          "base_uri": "https://localhost:8080/",
          "height": 641
        },
        "id": "uh6mZhoRZ_Qz",
        "outputId": "92393416-9e82-42fe-c942-f38ad9826f57"
      },
      "execution_count": 10,
      "outputs": [
        {
          "output_type": "display_data",
          "data": {
            "text/plain": [
              "<Figure size 1000x700 with 2 Axes>"
            ],
            "image/png": "[encoded data removed]"
          },
          "metadata": {}
        }
      ]
    },
    {
      "cell_type": "markdown",
      "source": [
        "# **Fine-Tuning**\n",
        "\n",
        "Consider techniques like hyperparameter tuning to further improve the model's performance. Use cross-validation for more reliable performance estimates."
      ],
      "metadata": {
        "id": "Ll8v0Ut7dQSG"
      }
    },
    {
      "cell_type": "code",
      "source": [
        "from sklearn.model_selection import GridSearchCV\n",
        "\n",
        "# Define parameter grid\n",
        "param_grid = {\n",
        "    'n_estimators': [50, 100, 200],\n",
        "    'max_features': ['auto', 'sqrt', 'log2'],\n",
        "    'max_depth': [4, 6, 8, 10],\n",
        "    'criterion': ['gini', 'entropy']\n",
        "}\n",
        "\n",
        "# GridSearchCV\n",
        "grid_search = GridSearchCV(estimator=rf_model, param_grid=param_grid, cv=5, n_jobs=-1, scoring='f1')\n",
        "grid_search.fit(X_train, y_train)\n",
        "\n",
        "# Best parameters\n",
        "print(grid_search.best_params_)\n"
      ],
      "metadata": {
        "colab": {
          "base_uri": "https://localhost:8080/"
        },
        "id": "wZgbMJeGaGgv",
        "outputId": "9a0b0e7e-729b-4e88-d618-1e081ebb3492"
      },
      "execution_count": 11,
      "outputs": [
        {
          "output_type": "stream",
          "name": "stdout",
          "text": [
            "{'criterion': 'entropy', 'max_depth': 6, 'max_features': 'auto', 'n_estimators': 50}\n"
          ]
        },
        {
          "output_type": "stream",
          "name": "stderr",
          "text": [
            "/usr/local/lib/python3.10/dist-packages/sklearn/ensemble/_forest.py:424: FutureWarning: `max_features='auto'` has been deprecated in 1.1 and will be removed in 1.3. To keep the past behaviour, explicitly set `max_features='sqrt'` or remove this parameter as it is also the default value for RandomForestClassifiers and ExtraTreesClassifiers.\n",
            "  warn(\n"
          ]
        }
      ]
    }
  ]
}